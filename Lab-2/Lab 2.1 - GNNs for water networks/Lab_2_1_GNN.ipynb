{
  "cells": [
    {
      "attachments": {},
      "cell_type": "markdown",
      "metadata": {
        "id": "C7zS8Ri96IY7"
      },
      "source": [
        "# Laboratory 2.1: Graph Neural Networks (GNNs)"
      ]
    },
    {
      "attachments": {},
      "cell_type": "markdown",
      "metadata": {},
      "source": [
        "**Objectives:** \n",
        "\n",
        "- Implement a data-driven model based on graph neural networks (GNN) to estimate the pressures at the nodes of a water distribution system.\n",
        "- Analyse the training performance of the implemented GNN.\n",
        "- Evaluate the execution performance of the data-driven model to emulate nodal pressures.\n",
        "- Transfer the developed data-driven model to a new case study.\n",
        "\n",
        "**Completion requirements:**\n",
        "\n",
        "By the end of this notebook, you should have:\n",
        "- Implemented all code cells for:\n",
        "  - defining a GNN-model. \n",
        "  - training the GNN-model\n",
        "  - assesing the performance of the GNN-model.\n",
        "  - transfering and assesing the GNN-model.\n",
        "- Answered the analysis questions on each section. "
      ]
    },
    {
      "attachments": {},
      "cell_type": "markdown",
      "metadata": {},
      "source": [
        "## 🔙 Background"
      ]
    },
    {
      "attachments": {},
      "cell_type": "markdown",
      "metadata": {},
      "source": [
        "Water utilities rely on hydrodynamic models to properly design and control water distribution systems (WDSs). These physically-based models, such as [EPANET](https://www.epa.gov/water-research/epanet), compute the state of the system, i.e., the flow rates and pressures at all the pipes and junctions, as illustrated in Figure 1. \n",
        "\n",
        "<center><figure>\n",
        "\n",
        "  <img src=\"https://drive.google.com/uc?id=1D1yRrUTEbBRbEWNeyn1ibGJ23n8FQ90a\" width=600/>\n",
        "<figcaption>Figure 1. EPANET results in WDS in Fossolo, Italy. \n",
        "\n",
        "<sub><sup> Pressure and flows are presented with different color schemes. </sup></sub></figcaption>\n",
        "\n",
        "</figure></center>\n",
        "\n",
        "Hydrodynamic models provide valuable insight into the functioning of the system. However, the computational speed of these models is often insufficient for some applications in civil engineering such as optimisation of design or criticality assessment, especially in large search space problems. \n",
        "\n",
        "One alternative to address this issue is developing data-driven models. These models are trained using results calculated using the original model (EPANET, in this case) in multiple scenarios. The objective of the data-driven models is to estimate the output of the original model but in a shorter time."
      ]
    },
    {
      "attachments": {},
      "cell_type": "markdown",
      "metadata": {
        "id": "jVzVlSvY2I3I"
      },
      "source": [
        "## ⛔ Problem definition "
      ]
    },
    {
      "attachments": {},
      "cell_type": "markdown",
      "metadata": {},
      "source": [
        "As part of a re-design of the Fossolo WDS, the water utility company has decided to use an optimisation approach. Aware that the established optimisation algorithms for designing water systems require a large number of scenarios, the company has decided to create a data-driven model to accelerate the process. \n",
        "\n",
        "From a graph machine learning perspective, this problem can be framed as a node regression. This is, given the network topology and input features at the nodes and/or edges, we want to use a GNN-model to infer the value of a variable at each node.\n",
        "\n",
        "<center><figure>\n",
        "\n",
        "  <img src=\"https://drive.google.com/uc?id=1HKOReaYv8KJMA0jkPfziSWbmDPIDc8Nw\" width=600/>\n",
        "<figcaption>Figure 2. Representation of water network as a graph. \n",
        "\n",
        "</figure></center>\n",
        "\n",
        "\n",
        "As a consultant for the water utility, your task is to develop a GNN-based tool that can perform pressure estimation at the nodes. This system will process different configurations of network characteristics (e.g., pipe diameters, nodal demands, type of nodes), and estimate the pressure at each node of the system. \n",
        "\n",
        "This tool is developed in a _supervised learning_ manner by employing the scenarios datasets already prepared by the company. \n"
      ]
    },
    {
      "attachments": {},
      "cell_type": "markdown",
      "metadata": {},
      "source": [
        "## 📔 Libraries\n",
        "\n",
        "<!-- \n",
        "# If you have not installed pytorch geometric uncomment the following lines to install it\n",
        "\n",
        "# !pip install -q torch-scatter -f https://data.pyg.org/whl/torch-${TORCH}.html\n",
        "# !pip install -q torch-sparse -f https://data.pyg.org/whl/torch-${TORCH}.html\n",
        "# !pip install -q git+https://github.com/pyg-team/pytorch_geometric.git\n",
        "\n",
        "# !pip install wntr -->"
      ]
    },
    {
      "attachments": {},
      "cell_type": "markdown",
      "metadata": {},
      "source": [
        "To run this notebook you need to have installed the following packages:\n",
        "- Pandas\n",
        "- Numpy\n",
        "- NetworkX\n",
        "- Scikit-learn\n",
        "- Pytorch\n",
        "- Pytorch geometric"
      ]
    },
    {
      "cell_type": "code",
      "execution_count": 1,
      "metadata": {},
      "outputs": [],
      "source": [
        "import time\n",
        "import torch\n",
        "import pickle\n",
        "import numpy as np\n",
        "import torch.nn as nn\n",
        "import matplotlib.pyplot as plt\n",
        "from torch_geometric.nn import TAGConv\n",
        "from torch.nn import Sequential, Linear, ReLU\n",
        "from torch_geometric.loader import DataLoader as pyg_DataLoader"
      ]
    },
    {
      "attachments": {},
      "cell_type": "markdown",
      "metadata": {},
      "source": [
        "## 📚 Database"
      ]
    },
    {
      "attachments": {},
      "cell_type": "markdown",
      "metadata": {},
      "source": [
        "The Fossolo water network has 37 nodes and 58 pipes. The network is represented as an undirected graph; this means that each pipe is represented as 2 edges, one incoming and one outgoing. In summary, each graph has 37 nodes and 116 edges.\n",
        "\n",
        "For this WDS, we already have a database with 1000 scenarios. This database was created by generating multiple combinations of diameters at the pipes and water consumption at the nodes. \n",
        "\n",
        "The dataset was created using a Python package, based on EPANET, designed to simulate the behaviour of water distribution networks. Each scenario is represented as a [Data object](https://pytorch-geometric.readthedocs.io/en/latest/generated/torch_geometric.data.Data.html#torch_geometric.data.Data) that contains edge features, node features, and the target feature. All of the features are already normalized based on a min-max scaling.\n",
        "\n",
        "The diameter at the pipes is the only edge feature. The node features consist of water consumption, node_type (0 for junction and 1 for reservoirs), junction elevation, and reservoir elevation. \n",
        "\n",
        "*Run the following cell to load the datasets from the pickle files.*"
      ]
    },
    {
      "cell_type": "code",
      "execution_count": 2,
      "metadata": {},
      "outputs": [],
      "source": [
        "with open('Training_dataset_WDS.p', 'rb') as handle:\n",
        "    tra_dataset_pyg = pickle.load(handle)\n",
        "with open('Validation_dataset_WDS.p', 'rb') as handle:\n",
        "    val_dataset_pyg = pickle.load(handle)\n",
        "with open('Test_dataset_WDS.p', 'rb') as handle:\n",
        "    tst_dataset_pyg = pickle.load(handle)"
      ]
    },
    {
      "cell_type": "code",
      "execution_count": 3,
      "metadata": {},
      "outputs": [
        {
          "name": "stdout",
          "output_type": "stream",
          "text": [
            "Number of training examples: 750\n",
            "Number of validation examples: 125\n",
            "Number of test examples: 125\n"
          ]
        }
      ],
      "source": [
        "print('Number of training examples:',   len(tra_dataset_pyg))\n",
        "print('Number of validation examples:', len(val_dataset_pyg))\n",
        "print('Number of test examples:',       len(tst_dataset_pyg))"
      ]
    },
    {
      "attachments": {},
      "cell_type": "markdown",
      "metadata": {},
      "source": [
        "We can inspect the content of one example:"
      ]
    },
    {
      "cell_type": "code",
      "execution_count": 4,
      "metadata": {},
      "outputs": [
        {
          "data": {
            "text/plain": [
              "Data(x=[37, 4], edge_attr=[116, 1], edge_index=[2, 116], y=[37, 1])"
            ]
          },
          "execution_count": 4,
          "metadata": {},
          "output_type": "execute_result"
        }
      ],
      "source": [
        "tra_dataset_pyg[0]"
      ]
    },
    {
      "attachments": {},
      "cell_type": "markdown",
      "metadata": {},
      "source": [
        "Each example in the database contains the following information:\n",
        "- **x:** Input node features with shape [Nodes, Node features]. This matrix is composed of 4 normalized variables for each node. Namely,\n",
        "  - Normalized water consumption. Original values between 0 and 0.007 cubic meters per second.\n",
        "  - Normalized junction elevation. Original values between 0 and 67.9 m.\n",
        "  - Normalized reservoir elevation. Original values between 0 and 121 m.\n",
        "  - One-hot encoding for type of node (1 for reservoir, 0 for junction)\n",
        "\n",
        "- **edge_attr:** Input edge features with shape [Edges, Edge features]. This matrix is composed of 1 normalized variable for each pipe. Namely,\n",
        "  - Normalized diameter. Original values between 0.025 and 0.4750.\n",
        "\n",
        "- **edge_index:** Graph connectivity in COO format with shape [2, num_edges]\n",
        "\n",
        "- **y:** Output node feature, i.e. target feature. Shape [Nodes, 1]. Original values between 0 and 59.56 mH2O."
      ]
    },
    {
      "attachments": {},
      "cell_type": "markdown",
      "metadata": {
        "id": "J8_GYoiZHoxN"
      },
      "source": [
        "## 💻 GNN training"
      ]
    },
    {
      "attachments": {},
      "cell_type": "markdown",
      "metadata": {
        "id": "fn23AScuZRQD"
      },
      "source": [
        "**Instructions:**\n",
        "Define a GNN model class, instantiate it, and train it."
      ]
    },
    {
      "attachments": {},
      "cell_type": "markdown",
      "metadata": {},
      "source": [
        "### 🕵 <font color='289C4E'>Questions<font><a class='anchor' id='top'></a>\n",
        "Imagine you are tasked with solving this problem using a GNN model.\n",
        "*   What dimensions do the inputs and outputs have?\n",
        "*   Which methods/architectures would you try first and why? (More than correctness, think of plausible components to test based on the problem description.)\n",
        "*   What hyperparameters define the structure of the model?\n",
        "\n",
        "Write your answers in the following cell"
      ]
    },
    {
      "attachments": {},
      "cell_type": "markdown",
      "metadata": {},
      "source": [
        "#### Answers:\n",
        "<font color='289C4E'><font>\n",
        "*   What dimensions do the inputs and outputs have?\n",
        "<font color='white'><font>\n",
        "\n",
        "    - Node features (x): matrix of shape [37, 4], which corresponds to 37 nodes in the system and 4 features for each node. \n",
        "\n",
        "    - Edge features (edge_attr): matrix of shape [116, 1] that corresponds to 116 edges or pipes and 1 feature, the diameter of each pipe.\n",
        "\n",
        "    - Edge index (edge_index):  matrix of shape [2, 116] that represents the connectivity of the graph.\n",
        "\n",
        "    - Output node features (y):  target variable to predict, matrix of shape [37, 1], corresponding to 37 nodes in the system and the pressure value at each node.\n",
        "\n",
        "\n",
        "<font color='289C4E'><font>\n",
        "*   Which methods/architectures would you try first and why? (More than correctness, think of plausible components to test based on the problem description.)\n",
        "<font color='white'><font>\n",
        "\n",
        "     The task is node regression to estimate the pressure at each node given a particular configuration of pipe diameters and water consumption at the nodes.  I would first try to use a Graph Convolutional Network  since it is one of the simplest yet powerful GNN architectures operating over nodes and their direct neighbors, which seems suitable for this problem.  Another option are Graph Attention Networks since they assign weights, focusing more on the important neighbors. This might be useful if certain nodes. for example the water reservoirs, have a bigger impact on the pressures at given nodes.  There are many other complex architectures can be tried but those two make a good starting point. \n",
        "\n",
        "<font color='289C4E'><font>\n",
        "*   What hyperparameters define the structure of the model?\n",
        "<font color='white'><font>\n",
        "\n",
        "    Many of the hyperparameters that define the structure of the model are similar to those of a traditional neural network. The number of layers, number of hidden units, input and output dimensions, learning rate, batch size, dropout rate, weight decay, activation function, type of aggregation function, number of epochs, and the number of hops in the neighbourhood for each layer.\n",
        "\n"
      ]
    },
    {
      "attachments": {},
      "cell_type": "markdown",
      "metadata": {},
      "source": [
        "---"
      ]
    },
    {
      "attachments": {},
      "cell_type": "markdown",
      "metadata": {},
      "source": [
        "### Model definition - Example"
      ]
    },
    {
      "attachments": {},
      "cell_type": "markdown",
      "metadata": {
        "id": "95rNwTNXxBbd"
      },
      "source": [
        "Below follows an example of a GNN model. You can use this code as a template for your own GNN model. "
      ]
    },
    {
      "cell_type": "code",
      "execution_count": 5,
      "metadata": {
        "id": "4ypFoq6cDD4M"
      },
      "outputs": [],
      "source": [
        "class GNN_Example(nn.Module):\n",
        "  \"\"\"\n",
        "    This class defines a PyTorch module that takes in a graph represented in the PyTorch Geometric Data format,\n",
        "    and outputs a tensor of predictions for each node in the graph. The model consists of one or more TAGConv layers,\n",
        "    which are a type of graph convolutional layer.\n",
        "\n",
        "    Args:\n",
        "        node_dim (int): The number of node inputs.\n",
        "        edge_dim (int): The number of edge inputs.\n",
        "        output_dim (int, optional): The number of outputs (default: 1).\n",
        "        hidden_dim (int, optional): The number of hidden units in each GNN layer (default: 50).\n",
        "        n_gnn_layers (int, optional): The number of GNN layers in the model (default: 1).\n",
        "        K (int, optional): The number of hops in the neighbourhood for each GNN layer (default: 2).\n",
        "        dropout_rate (float, optional): The dropout rate to be applied to the output of each GNN layer (default: 0).\n",
        "\n",
        "    \"\"\"\n",
        "  def __init__(self, node_dim, edge_dim, output_dim=1, hidden_dim=50, n_gnn_layers=1, K=2, dropout_rate=0):\n",
        "    super().__init__()\n",
        "    self.node_dim = node_dim          \n",
        "    self.edge_dim = edge_dim          \n",
        "    self.output_dim = output_dim      \n",
        "    self.hidden_dim = hidden_dim      \n",
        "    self.n_gnn_layers = n_gnn_layers  \n",
        "    self.K = K                        \n",
        "    self.dropout_rate = dropout_rate\n",
        "    \n",
        "    self.convs = nn.ModuleList()\n",
        "\n",
        "    if n_gnn_layers == 1:\n",
        "      self.convs.append(TAGConv(node_dim, output_dim, K=K))\n",
        "    else:\n",
        "      self.convs.append(TAGConv(node_dim, hidden_dim, K=K))\n",
        "\n",
        "      for l in range(n_gnn_layers-2):\n",
        "          self.convs.append(TAGConv(hidden_dim, hidden_dim, K=K))\n",
        "          \n",
        "      self.convs.append(TAGConv(hidden_dim, output_dim, K=K))\n",
        "\n",
        "  def forward(self, data):\n",
        "      \"\"\"Applies the GNN to the input graph.\n",
        "\n",
        "        Args:\n",
        "            data (Data): A PyTorch Geometric Data object representing the input graph.\n",
        "\n",
        "        Returns:\n",
        "            torch.Tensor: The output tensor of the GNN.\n",
        "\n",
        "        \"\"\"\n",
        "      x = data.x\n",
        "      edge_index = data.edge_index\n",
        "      edge_attr = data.edge_attr\n",
        "      \n",
        "      for i in range(len(self.convs)-1):\n",
        "          x = self.convs[i](x=x, edge_index=edge_index, edge_weight=edge_attr)\n",
        "          x = nn.Dropout(self.dropout_rate, inplace=False)(x)\n",
        "          x = nn.PReLU()(x)\n",
        "      \n",
        "      x = self.convs[-1](x=x, edge_index=edge_index, edge_weight=edge_attr)\n",
        "      # x = nn.Sigmoid()(x)\n",
        "      \n",
        "      return x"
      ]
    },
    {
      "attachments": {},
      "cell_type": "markdown",
      "metadata": {
        "id": "g6_im4NLHsuZ"
      },
      "source": [
        "#### Model instantiation"
      ]
    },
    {
      "cell_type": "code",
      "execution_count": 6,
      "metadata": {
        "colab": {
          "base_uri": "https://localhost:8080/"
        },
        "id": "KgHHdfz75OPp",
        "outputId": "8496bf25-1175-4315-fc2f-95db210346eb"
      },
      "outputs": [
        {
          "name": "stdout",
          "output_type": "stream",
          "text": [
            "GNN_Example(\n",
            "  (convs): ModuleList(\n",
            "    (0): TAGConv(4, 16, K=1)\n",
            "    (1): TAGConv(16, 16, K=1)\n",
            "    (2): TAGConv(16, 1, K=1)\n",
            "  )\n",
            ")\n"
          ]
        }
      ],
      "source": [
        "# Set model parameters\n",
        "node_dim =   tra_dataset_pyg[0].x.shape[1]\n",
        "edge_dim =   tra_dataset_pyg[0].edge_attr.shape[1]\n",
        "output_dim = tra_dataset_pyg[0].y.shape[1]\n",
        "hidden_dim = 16\n",
        "n_gnn_layers = 3\n",
        "K=1\n",
        "dropout_rate = 0\n",
        "\n",
        "# Create model\n",
        "model = GNN_Example(node_dim, edge_dim, output_dim, hidden_dim, n_gnn_layers, K, dropout_rate)\n",
        "print(model)"
      ]
    },
    {
      "attachments": {},
      "cell_type": "markdown",
      "metadata": {},
      "source": [
        "### Define your own GNN"
      ]
    },
    {
      "attachments": {},
      "cell_type": "markdown",
      "metadata": {},
      "source": [
        "In the following cells, define and instatiate your own GNN model. You can use already implemented layers from [Pytorch Geometric library](https://pytorch-geometric.readthedocs.io/en/latest/notes/cheatsheet.html). "
      ]
    },
    {
      "cell_type": "code",
      "execution_count": 7,
      "metadata": {},
      "outputs": [],
      "source": [
        "from torch_geometric.nn import GCNConv\n",
        "\n",
        "class My_GNN(nn.Module):\n",
        "    def __init__(self, node_dim, edge_dim, output_dim, hidden_dim, n_gnn_layers, dropout_rate):\n",
        "        super(My_GNN, self).__init__()\n",
        "\n",
        "        self.convs = nn.ModuleList()\n",
        "        self.convs.append(GCNConv(node_dim, hidden_dim))\n",
        "\n",
        "        for _ in range(n_gnn_layers - 2):\n",
        "            self.convs.append(GCNConv(hidden_dim, hidden_dim))\n",
        "\n",
        "        self.convs.append(GCNConv(hidden_dim, output_dim))\n",
        "        self.dropout = nn.Dropout(dropout_rate)\n",
        "\n",
        "    def forward(self, data):\n",
        "        x, edge_index = data.x, data.edge_index\n",
        "\n",
        "        for i in range(len(self.convs) - 1):\n",
        "            x = self.convs[i](x, edge_index)\n",
        "            x = nn.ReLU()(x)\n",
        "            x = self.dropout(x)\n",
        "            \n",
        "        x = self.convs[-1](x, edge_index)\n",
        "\n",
        "        return x\n"
      ]
    },
    {
      "cell_type": "code",
      "execution_count": 8,
      "metadata": {},
      "outputs": [
        {
          "name": "stdout",
          "output_type": "stream",
          "text": [
            "My_GNN(\n",
            "  (convs): ModuleList(\n",
            "    (0): GCNConv(4, 16)\n",
            "    (1): GCNConv(16, 16)\n",
            "    (2): GCNConv(16, 1)\n",
            "  )\n",
            "  (dropout): Dropout(p=0, inplace=False)\n",
            ")\n"
          ]
        }
      ],
      "source": [
        "# Set model parameters\n",
        "node_dim =   tra_dataset_pyg[0].x.shape[1]\n",
        "edge_dim =   tra_dataset_pyg[0].edge_attr.shape[1]\n",
        "output_dim = tra_dataset_pyg[0].y.shape[1]\n",
        "hidden_dim = 16\n",
        "n_gnn_layers = 3\n",
        "K=1 \n",
        "dropout_rate = 0\n",
        "\n",
        "# Create model\n",
        "device = torch.device('cuda:0' if torch.cuda.is_available() else 'cpu')\n",
        "model = My_GNN(node_dim, edge_dim, output_dim, hidden_dim, n_gnn_layers, dropout_rate)\n",
        "model = model.to(device)\n",
        "print(model)"
      ]
    },
    {
      "attachments": {},
      "cell_type": "markdown",
      "metadata": {
        "id": "a9Ncok2S6Gbc"
      },
      "source": [
        "### 🏋🏽‍♀️Train a Graph Neural Network\n",
        "\n",
        "Train your GNN model. \n",
        "\n",
        "_Recommendations for first trial_\n",
        "- Use dropout and early stopping to reduce overfitting\n",
        "- Use the Adam optimizer, and set learning rate to 0.001\n",
        "- Use a batch size of 16"
      ]
    },
    {
      "attachments": {},
      "cell_type": "markdown",
      "metadata": {
        "id": "tG4ejXt-Gi7j"
      },
      "source": [
        "#### Training epoch function"
      ]
    },
    {
      "cell_type": "code",
      "execution_count": 9,
      "metadata": {
        "id": "2OdoW7rT5OG5"
      },
      "outputs": [],
      "source": [
        "device = torch.device('cuda:0' if torch.cuda.is_available() else 'cpu')\n",
        "\n",
        "def train_epoch(model, loader, optimizer, device=device):\n",
        "    \"\"\"\n",
        "        Trains a neural network model for one epoch using the specified data loader and optimizer.\n",
        "\n",
        "        Args:\n",
        "            model (nn.Module): The neural network model to be trained.\n",
        "            loader (DataLoader): The PyTorch Geometric DataLoader containing the training data.\n",
        "            optimizer (torch.optim.Optimizer): The PyTorch optimizer used for training the model.\n",
        "            device (str): The device used for training the model (default: 'cpu').\n",
        "\n",
        "        Returns:\n",
        "            float: The mean loss value over all the batches in the DataLoader.\n",
        "\n",
        "        \"\"\"\n",
        "  \n",
        "    model.train()\n",
        "    total_loss = 0\n",
        "\n",
        "    for batch in loader:\n",
        "        batch = batch.to(device) \n",
        "        optimizer.zero_grad() \n",
        "\n",
        "        # Forward pass\n",
        "        out = model(batch) \n",
        "        loss = nn.MSELoss()(out, batch.y) \n",
        "\n",
        "        # Backward pass\n",
        "        loss.backward() \n",
        "        optimizer.step() \n",
        "\n",
        "        total_loss += loss.item() * batch.num_graphs\n",
        "\n",
        "    return total_loss / len(loader.dataset)"
      ]
    },
    {
      "attachments": {},
      "cell_type": "markdown",
      "metadata": {
        "id": "YHkEUJJRGnTf"
      },
      "source": [
        "#### Testing epoch function"
      ]
    },
    {
      "cell_type": "code",
      "execution_count": 10,
      "metadata": {
        "id": "D4ZjBpbd5N_g"
      },
      "outputs": [],
      "source": [
        "device = torch.device('cuda:0' if torch.cuda.is_available() else 'cpu')\n",
        "\n",
        "def evaluate_epoch(model, loader, device=device):\n",
        "    \"\"\"\n",
        "    Evaluates the performance of a trained neural network model on a dataset using the specified data loader.\n",
        "\n",
        "    Args:\n",
        "        model (nn.Module): The trained neural network model to be evaluated.\n",
        "        loader (DataLoader): The PyTorch Geometric DataLoader containing the evaluation data.\n",
        "        device (str): The device used for evaluating the model (default: 'cpu').\n",
        "\n",
        "    Returns:\n",
        "        float: The mean loss value over all the batches in the DataLoader.\n",
        "\n",
        "    \"\"\"\n",
        "    model.eval()\n",
        "    total_loss = 0\n",
        "\n",
        "    with torch.no_grad():\n",
        "        for batch in loader:\n",
        "            batch = batch.to(device) \n",
        "\n",
        "            # Forward pass\n",
        "            out = model(batch) \n",
        "            loss = nn.MSELoss()(out, batch.y) \n",
        "\n",
        "            total_loss += loss.item() * batch.num_graphs\n",
        "\n",
        "    return total_loss / len(loader.dataset)"
      ]
    },
    {
      "attachments": {},
      "cell_type": "markdown",
      "metadata": {
        "id": "qWIaTu5NGrt_"
      },
      "source": [
        "#### Optimization of the Model"
      ]
    },
    {
      "cell_type": "code",
      "execution_count": 11,
      "metadata": {
        "colab": {
          "base_uri": "https://localhost:8080/"
        },
        "id": "2YL0FhoBIL1M",
        "outputId": "d6182092-d42d-4e1e-9ea8-26715f44e25c"
      },
      "outputs": [
        {
          "name": "stdout",
          "output_type": "stream",
          "text": [
            "cuda:0\n"
          ]
        }
      ],
      "source": [
        "device = torch.device('cuda:0' if torch.cuda.is_available() else 'cpu')\n",
        "print(device)"
      ]
    },
    {
      "cell_type": "code",
      "execution_count": 12,
      "metadata": {
        "id": "NmB2lceaFvbq"
      },
      "outputs": [],
      "source": [
        "# Set training parameters\n",
        "learning_rate = 0.001\n",
        "batch_size = 16\n",
        "num_epochs = 100\n",
        "\n",
        "# Create the optimizer to train the neural network via back-propagation\n",
        "optimizer = torch.optim.Adam(params=model.parameters(), lr=learning_rate)\n",
        "\n",
        "# Create the training and validation dataloaders to \"feed\" data to the GNN in batches\n",
        "tra_loader = pyg_DataLoader(tra_dataset_pyg, batch_size=batch_size, shuffle=True)\n",
        "val_loader = pyg_DataLoader(val_dataset_pyg, batch_size=batch_size, shuffle=False)"
      ]
    },
    {
      "cell_type": "code",
      "execution_count": 13,
      "metadata": {
        "colab": {
          "base_uri": "https://localhost:8080/"
        },
        "id": "zQh7-Yv2JHDZ",
        "outputId": "62b6555c-48c6-435f-e1e0-59f6d7f5df1d"
      },
      "outputs": [
        {
          "name": "stdout",
          "output_type": "stream",
          "text": [
            "epoch: 10 \t training loss: 0.0138 \t validation loss: 0.0093\n",
            "epoch: 20 \t training loss: 0.0132 \t validation loss: 0.0088\n",
            "epoch: 30 \t training loss: 0.0125 \t validation loss: 0.0082\n",
            "epoch: 40 \t training loss: 0.0122 \t validation loss: 0.0078\n",
            "epoch: 50 \t training loss: 0.0121 \t validation loss: 0.0076\n",
            "epoch: 60 \t training loss: 0.0117 \t validation loss: 0.0073\n",
            "epoch: 70 \t training loss: 0.0119 \t validation loss: 0.0073\n",
            "epoch: 80 \t training loss: 0.0114 \t validation loss: 0.0073\n",
            "epoch: 90 \t training loss: 0.0114 \t validation loss: 0.007\n",
            "epoch: 100 \t training loss: 0.0113 \t validation loss: 0.0086\n",
            "Model training took 29.060 seconds\n"
          ]
        }
      ],
      "source": [
        "#create vectors for the training and validation loss\n",
        "train_losses = []\n",
        "val_losses = []\n",
        "patience = 5       # patience for early stopping\n",
        "\n",
        "#start measuring time\n",
        "start_time = time.time()\n",
        "\n",
        "for epoch in range(1, num_epochs+1):\n",
        "    # Model training\n",
        "    train_loss = train_epoch(model, tra_loader, optimizer, device=device)\n",
        "\n",
        "    # Model validation\n",
        "    val_loss = evaluate_epoch(model, val_loader, device=device)\n",
        "\n",
        "    train_losses.append(train_loss)\n",
        "    val_losses.append(val_loss)\n",
        "\n",
        "    # Early stopping\n",
        "    try:\n",
        "        if val_losses[-1]>=val_losses[-2]:\n",
        "            early_stop += 1\n",
        "            if early_stop == patience:\n",
        "                print(\"Early stopping! Epoch:\", epoch)\n",
        "                break\n",
        "        else:\n",
        "            early_stop = 0\n",
        "    except:\n",
        "        early_stop = 0\n",
        "\n",
        "    if epoch%10 == 0:\n",
        "        print(\"epoch:\",epoch, \"\\t training loss:\", np.round(train_loss,4),\n",
        "                            \"\\t validation loss:\", np.round(val_loss,4))\n",
        "\n",
        "elapsed_time = time.time() - start_time\n",
        "print(f'Model training took {elapsed_time:.3f} seconds')"
      ]
    },
    {
      "attachments": {},
      "cell_type": "markdown",
      "metadata": {
        "id": "iBIY-52mzxzD"
      },
      "source": [
        "In the following cell, plot the loss as function of epochs"
      ]
    },
    {
      "cell_type": "code",
      "execution_count": 14,
      "metadata": {
        "colab": {
          "base_uri": "https://localhost:8080/"
        },
        "id": "0aMBy_kDMvSg",
        "outputId": "ff5ac68d-9f51-4573-92ba-08402a11bdd1"
      },
      "outputs": [
        {
          "data": {
            "image/png": "[encoded data removed]",
            "text/plain": [
              "<Figure size 1000x500 with 1 Axes>"
            ]
          },
          "metadata": {},
          "output_type": "display_data"
        }
      ],
      "source": [
        "# plot the training and validation loss curves\n",
        "plt.figure(figsize=(10,5))\n",
        "plt.plot(train_losses, label='Training loss')\n",
        "plt.plot(val_losses, label='Validation loss')\n",
        "plt.xlabel('Epoch')\n",
        "plt.ylabel('Loss')\n",
        "plt.legend()\n",
        "plt.show()"
      ]
    },
    {
      "attachments": {},
      "cell_type": "markdown",
      "metadata": {},
      "source": [
        "### 🕵 <font color='289C4E'>Questions<font><a class='anchor' id='top'></a>\n",
        "\n",
        "Based on the loss curves:\n",
        "*   What would you conclude about the overfitting or underfitting capabilities of the model?\n",
        "*   Is this model adequate to be used? Why?"
      ]
    },
    {
      "attachments": {},
      "cell_type": "markdown",
      "metadata": {},
      "source": [
        "#### Answers:\n",
        "\n",
        "Comparing the training and validation loss curves, we can see that the validation loss is lower than the training loss, which indicates that the model is not overfitting. It would be overfitting if the training loss continued to decrease with the epochs while the validation loss started to increase. The model is not underfitting either since both losses are relatively low. However, the model is not very adequate because the losses do not improve much after the first epochs. \n",
        "\n"
      ]
    },
    {
      "attachments": {},
      "cell_type": "markdown",
      "metadata": {
        "id": "nvSI1nD5OANr"
      },
      "source": [
        "## 📈 Results"
      ]
    },
    {
      "attachments": {},
      "cell_type": "markdown",
      "metadata": {
        "id": "PAqflWEac65p"
      },
      "source": [
        "For our application, we need the model to be both accurate and fast. Here, we will test those qualities."
      ]
    },
    {
      "attachments": {},
      "cell_type": "markdown",
      "metadata": {
        "id": "bO6r_T2gUnDs"
      },
      "source": [
        "### Accuracy"
      ]
    },
    {
      "attachments": {},
      "cell_type": "markdown",
      "metadata": {},
      "source": [
        "#### Loss"
      ]
    },
    {
      "attachments": {},
      "cell_type": "markdown",
      "metadata": {},
      "source": [
        "Calculate the loss value for the test dataset"
      ]
    },
    {
      "cell_type": "code",
      "execution_count": 15,
      "metadata": {
        "colab": {
          "base_uri": "https://localhost:8080/"
        },
        "id": "wNU9Y6S_ODjD",
        "outputId": "95d5333d-1697-4a1f-faee-5e0c5e6bf63c"
      },
      "outputs": [
        {
          "name": "stdout",
          "output_type": "stream",
          "text": [
            "Test loss:  0.016464490115642546\n",
            "Number of test scenarios:  125\n"
          ]
        }
      ],
      "source": [
        "tst_loader = pyg_DataLoader(tst_dataset_pyg, batch_size=batch_size, shuffle=False) \n",
        "tst_loss = evaluate_epoch(model, tst_loader, device=device)\n",
        "num_test_sims = len(tst_dataset_pyg)\n",
        "\n",
        "print('Test loss: ', tst_loss)\n",
        "print('Number of test scenarios: ', num_test_sims)"
      ]
    },
    {
      "attachments": {},
      "cell_type": "markdown",
      "metadata": {},
      "source": [
        "### Errors in unnormalized variable"
      ]
    },
    {
      "attachments": {},
      "cell_type": "markdown",
      "metadata": {},
      "source": [
        "Calculate the error in pressure for all the nodes in all the scenarios. This error matrix should be of shape [Scenarios , Nodes].\n",
        "\n",
        "Remember that the variables were normalized for training purposes. However, the water utility is interested in the value of the output variable in physical units, in this case, pressure in mH2O. In order to do this, unnormalize the output variable knowing that the maximum and minimum pressures used to normalized the output variable were 59.56 mH2O and 0 mH2O, respectively."
      ]
    },
    {
      "cell_type": "code",
      "execution_count": 39,
      "metadata": {},
      "outputs": [],
      "source": [
        "max_pressure = 59.56 #mH2O\n",
        "\n",
        "def predict_model(model, data, device=device):\n",
        "    model.eval()\n",
        "    with torch.no_grad():\n",
        "        data = data.to(device)\n",
        "        output = model(data)\n",
        "    return output\n",
        "\n",
        "# Initialize error matrix\n",
        "num_test_sims = len(tst_dataset_pyg)\n",
        "num_nodes = 37\n",
        "error = np.zeros((num_test_sims, num_nodes))\n",
        "\n",
        "\n",
        "for i, scenario in enumerate(tst_dataset_pyg):\n",
        "\n",
        "    estimated_pressure_normalized = predict_model(model, scenario)\n",
        "\n",
        "    # Unnormalize the pressures\n",
        "    estimated_pressure = estimated_pressure_normalized.to('cpu') * max_pressure\n",
        "    target_pressure = scenario.y.to('cpu') * max_pressure\n",
        "\n",
        "    # Compute the error\n",
        "    error_difference  = estimated_pressure.detach().numpy() - target_pressure.detach().numpy()\n",
        "    error[i] = error_difference.flatten()"
      ]
    },
    {
      "cell_type": "code",
      "execution_count": 40,
      "metadata": {},
      "outputs": [
        {
          "name": "stdout",
          "output_type": "stream",
          "text": [
            "(125, 37)\n"
          ]
        }
      ],
      "source": [
        "print(error.shape)"
      ]
    },
    {
      "attachments": {},
      "cell_type": "markdown",
      "metadata": {},
      "source": [
        "#### Error in pressure for all scenarios for one node"
      ]
    },
    {
      "attachments": {},
      "cell_type": "markdown",
      "metadata": {},
      "source": [
        "Plot the error of one node across test scenarios. "
      ]
    },
    {
      "cell_type": "code",
      "execution_count": 41,
      "metadata": {},
      "outputs": [],
      "source": [
        "node_ID = 15\n",
        "error_node = error[:, node_ID]"
      ]
    },
    {
      "cell_type": "code",
      "execution_count": 42,
      "metadata": {},
      "outputs": [
        {
          "data": {
            "image/png": "[encoded data removed]",
            "text/plain": [
              "<Figure size 1000x500 with 1 Axes>"
            ]
          },
          "metadata": {},
          "output_type": "display_data"
        }
      ],
      "source": [
        "# Plot the error of a single node across test scenarios.\n",
        "plt.figure(figsize=(10,5))\n",
        "plt.plot(error_node)\n",
        "plt.title('Error of Node {}'.format(node_ID))\n",
        "plt.xlabel('Scenario')\n",
        "plt.ylabel('Error (mH2O)')\n",
        "plt.show()\n"
      ]
    },
    {
      "attachments": {},
      "cell_type": "markdown",
      "metadata": {
        "id": "lzf9noRZdTNA"
      },
      "source": [
        "### 🕵 <font color='289C4E'>Questions<font><a class='anchor' id='top'></a>\n",
        "\n",
        "Based on the results accross scenarios:\n",
        "*   Is the model satisfactorily fitting? \n",
        "*   If there are there outliers, do they have any pattern? \n",
        "*   Are these errors considerable?\n",
        "\n"
      ]
    },
    {
      "attachments": {},
      "cell_type": "markdown",
      "metadata": {},
      "source": [
        "#### Answers:\n",
        "\n",
        "The error across most of the nodes is low, which indicates that the model is fitting well. However, there are some outliers for which the model is not able to accurately predict the pressures, leading to large errors. I suspect they might be nodes related to the reservoirs. The errors are very considerable for those nodes which would hinder the adoption of the model for real-world applications.\n",
        "\n",
        "\n",
        "\n"
      ]
    },
    {
      "attachments": {},
      "cell_type": "markdown",
      "metadata": {},
      "source": [
        "#### Error of all nodes in one scenario"
      ]
    },
    {
      "attachments": {},
      "cell_type": "markdown",
      "metadata": {},
      "source": [
        "Plot the error of all the nodes of one scenario. "
      ]
    },
    {
      "cell_type": "code",
      "execution_count": 48,
      "metadata": {},
      "outputs": [],
      "source": [
        "sce_ID = 10\n",
        "error_sim = error[sce_ID, :]"
      ]
    },
    {
      "cell_type": "code",
      "execution_count": 49,
      "metadata": {},
      "outputs": [
        {
          "data": {
            "image/png": "[encoded data removed]",
            "text/plain": [
              "<Figure size 1000x500 with 1 Axes>"
            ]
          },
          "metadata": {},
          "output_type": "display_data"
        }
      ],
      "source": [
        "#Plot the error for all the nodes in one single scenario.\n",
        "plt.figure(figsize=(10,5))\n",
        "plt.plot(error_sim)\n",
        "plt.title('Error of Scenario {}'.format(sce_ID))\n",
        "plt.xlabel('Node Number')\n",
        "plt.ylabel('Error (mH2O)')\n",
        "plt.show()"
      ]
    },
    {
      "attachments": {},
      "cell_type": "markdown",
      "metadata": {
        "id": "myXgqfbHeGic"
      },
      "source": [
        "### 🕵 <font color='289C4E'>Questions<font><a class='anchor' id='top'></a>\n",
        "\n",
        "Based on this error analysis:\n",
        "*   How does it compare with the previous error analysis?\n",
        "*   Is the model over- or under- predicting?\n",
        "*   Would you recommend the water utility to use this model?\n",
        "    *   Does your recommendation match with your previous recommendation?\n",
        "\n",
        "    "
      ]
    },
    {
      "attachments": {},
      "cell_type": "markdown",
      "metadata": {},
      "source": [
        "#### Answers:\n",
        "\n",
        "The graphs plots the error for all the nodes in one scenario. The error varies significantly from node to node, being negative in most cases meaning that the model is predicting lower pressures than those used as labels. The error for the fist and last node is the greatest in this specific scenario. My recommendation to the water utility would depend on the intended use of the model, if only a rough overview of the water network is required, the model might be useful. However, if the model is intended to be used for more detailed analysis, I would not recommend it because the errors are too large in some cases. "
      ]
    },
    {
      "attachments": {},
      "cell_type": "markdown",
      "metadata": {},
      "source": [
        "### Speed"
      ]
    },
    {
      "attachments": {},
      "cell_type": "markdown",
      "metadata": {
        "id": "Far6YE9-0rSm"
      },
      "source": [
        "We can calculate the time per scenario that the model takes."
      ]
    },
    {
      "cell_type": "code",
      "execution_count": 54,
      "metadata": {
        "colab": {
          "base_uri": "https://localhost:8080/"
        },
        "id": "0lpONJIauDMH",
        "outputId": "4bad67dc-537b-4ce8-d94a-9895b3bfb39c"
      },
      "outputs": [
        {
          "name": "stdout",
          "output_type": "stream",
          "text": [
            "Data-driven model took 0.00214 seconds for 125 scenarios\n"
          ]
        }
      ],
      "source": [
        "start_time = time.time()\n",
        "  #Execute the model here for all the simulations in the test case\n",
        "for example in tst_dataset_pyg:\n",
        "  example = example.to(device)\n",
        "  output = model(example)\n",
        "total_time = time.time() - start_time\n",
        "\n",
        "data_driven_exec_time_per_sim = total_time/num_test_sims\n",
        "print(f'Data-driven model took {data_driven_exec_time_per_sim:.5f} seconds for {num_test_sims} scenarios')"
      ]
    },
    {
      "attachments": {},
      "cell_type": "markdown",
      "metadata": {
        "id": "3Som6znI07Zd"
      },
      "source": [
        "Considering that the original model can take up to 0.04 seconds per scenario, we can estimate the potential gain in speed-up. (Speed-up = original_time/Data-driven_model_time)"
      ]
    },
    {
      "cell_type": "code",
      "execution_count": 55,
      "metadata": {
        "colab": {
          "base_uri": "https://localhost:8080/"
        },
        "id": "EhSn0pGKRy56",
        "outputId": "1f1a0736-95f2-490e-9083-5782418740fc"
      },
      "outputs": [
        {
          "name": "stdout",
          "output_type": "stream",
          "text": [
            "The data-driven model is 18.72 times faster than EPANET per scenario.\n"
          ]
        }
      ],
      "source": [
        "original_time_per_sim = 0.04\n",
        "\n",
        "speed_up = np.round(original_time_per_sim/data_driven_exec_time_per_sim, 2)\n",
        "print('The data-driven model is', speed_up,'times faster than EPANET per scenario.')"
      ]
    },
    {
      "attachments": {},
      "cell_type": "markdown",
      "metadata": {},
      "source": [
        "### 🕵 <font color='289C4E'>Questions<font><a class='anchor' id='top'></a>\n",
        "\n",
        "Based on the results on speed:\n",
        "*   Which factors or components could make the model faster or slower on its execution?\n"
      ]
    },
    {
      "attachments": {},
      "cell_type": "markdown",
      "metadata": {},
      "source": [
        "#### Answers:\n",
        "\n",
        "The model is quite fast, much faster than the EPANET simulation. The speed of the model could be further improved by simplifying the model architecture, reducing the number of layers and hidden units. It could also be achieved by making use of faster hardware or by simpliyfing the graph structure. On the contrary, making use of a more complex model architecture would slow down the model but it could also improve the accuracy of the predictions.\n",
        "\n",
        "\n",
        "\n"
      ]
    },
    {
      "attachments": {},
      "cell_type": "markdown",
      "metadata": {},
      "source": [
        "## 🥈 Transferability"
      ]
    },
    {
      "attachments": {},
      "cell_type": "markdown",
      "metadata": {},
      "source": [
        "A practical property of graph neural networks is their independence of the domain in which they are trained on. Therefore, they can be (pre-)trained in one network and be used in another case. Let's explore this property by using the already trained models on another water distribution network. \n",
        "\n",
        "This water network comes from the city of Pescara. This network has 71 nodes (68 junctions and 3 reservoirs) and 196 edges (98 pipes).\n",
        "\n",
        "<center><figure>\n",
        "\n",
        "  <img src=\"https://drive.google.com/uc?id=1tpuaoC1Ij3AdAt1zthtft5Lk2vMfq4d3\" width=600/>\n",
        "<figcaption>Figure 3. EPANET results in WDS in Pescara, Italy. \n",
        "\n",
        "<sub><sup> Pressure and flows are presented with different color schemes. </sup></sub></figcaption>\n",
        "\n",
        "</figure></center>"
      ]
    },
    {
      "attachments": {},
      "cell_type": "markdown",
      "metadata": {},
      "source": [
        "There is already a prepared scenario example from this network. This example has been already normalized. The \"y\" values were normalized considering a minimum of 0 mH2O and a maximum of 51.75 mH2O. \n",
        "\n",
        "Let's load this scenario and use our model to estimate the pressure at all nodes."
      ]
    },
    {
      "cell_type": "code",
      "execution_count": 56,
      "metadata": {},
      "outputs": [],
      "source": [
        "with open(\"PES_example.p\", 'rb') as handle:\n",
        "    pes_data = pickle.load(handle)"
      ]
    },
    {
      "attachments": {},
      "cell_type": "markdown",
      "metadata": {},
      "source": [
        "Use your model to estimate the pressure for this scenario on this new network."
      ]
    },
    {
      "cell_type": "code",
      "execution_count": 61,
      "metadata": {},
      "outputs": [],
      "source": [
        "max_pressure_pes = 51.75  # mH2O\n",
        "predictions = model(pes_data.to(device))\n",
        "predictions = predictions.to('cpu') * max_pressure_pes"
      ]
    },
    {
      "attachments": {},
      "cell_type": "markdown",
      "metadata": {},
      "source": [
        "Estimate the difference (in meters) between the actual pressure and the model."
      ]
    },
    {
      "cell_type": "code",
      "execution_count": 63,
      "metadata": {},
      "outputs": [],
      "source": [
        "unnormalized_pressure = pes_data.y.to('cpu') * max_pressure_pes\n",
        "error = predictions.detach().numpy() - unnormalized_pressure.detach().numpy()"
      ]
    },
    {
      "cell_type": "code",
      "execution_count": 65,
      "metadata": {},
      "outputs": [
        {
          "data": {
            "text/plain": [
              "(71, 1)"
            ]
          },
          "execution_count": 65,
          "metadata": {},
          "output_type": "execute_result"
        }
      ],
      "source": [
        "error.shape"
      ]
    },
    {
      "attachments": {},
      "cell_type": "markdown",
      "metadata": {},
      "source": [
        "Plot the error of all the nodes for this scenario. "
      ]
    },
    {
      "cell_type": "code",
      "execution_count": 68,
      "metadata": {},
      "outputs": [
        {
          "data": {
            "image/png": "[encoded data removed]",
            "text/plain": [
              "<Figure size 1000x500 with 1 Axes>"
            ]
          },
          "metadata": {},
          "output_type": "display_data"
        }
      ],
      "source": [
        "# Plot the error for all the nodes in this new water network.\n",
        "plt.figure(figsize=(10,5))\n",
        "plt.plot(error)\n",
        "plt.title('Error across the nodes of the Pescara Network')\n",
        "plt.xlabel('Node Number')\n",
        "plt.ylabel('Error (mH2O)')\n",
        "plt.show()"
      ]
    },
    {
      "attachments": {},
      "cell_type": "markdown",
      "metadata": {},
      "source": [
        "### 🕵 <font color='289C4E'>Questions<font><a class='anchor' id='top'></a>\n",
        "\n",
        "Based on the results on transferability:\n",
        "*   How does this error distribution compare against the error distribution for the previous network?\n",
        "*   Which factors do you consider influence the performance of the model when it is transferred?\n",
        "*   How do you consider the model could improve its transfer capability?"
      ]
    },
    {
      "attachments": {},
      "cell_type": "markdown",
      "metadata": {},
      "source": [
        "#### Answers:\n",
        "\n",
        "The magnitude of the error is significantly higher on the Pescara network than in the network it was trained in, indicating poor transferibility capabilities of the model. The reason for it could be that the networks are too different from each other, as an example having twice the number of nodes. Furthermore, even if the graph topographies in both networks were very similar, it could be the case that the water consumption habits in both cities are very different, difficulting the transfer of the predictions. The model could improve its transfer capability by training with a diverse dataset, including networks from different cities. The use of a more complex model architecture could also improve the transferibility of the model, but it would be important to avoid overfitting.\n",
        "\n",
        "\n"
      ]
    }
  ],
  "metadata": {
    "colab": {
      "collapsed_sections": [
        "9-FO_FFTqfqj",
        "ztW-os_4TQ-2",
        "u3JjaZCDTWN8",
        "Ksa7d2pjTO86",
        "ekMofq1duzy3",
        "Gndcntqt69-N",
        "lgnlFVTZ7Bec",
        "tG4ejXt-Gi7j",
        "YHkEUJJRGnTf"
      ],
      "provenance": []
    },
    "gpuClass": "standard",
    "kernelspec": {
      "display_name": "Python 3",
      "name": "python3"
    },
    "language_info": {
      "codemirror_mode": {
        "name": "ipython",
        "version": 3
      },
      "file_extension": ".py",
      "mimetype": "text/x-python",
      "name": "python",
      "nbconvert_exporter": "python",
      "pygments_lexer": "ipython3",
      "version": "3.8.16"
    }
  },
  "nbformat": 4,
  "nbformat_minor": 0
}
